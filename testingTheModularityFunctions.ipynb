{
 "cells": [
  {
   "cell_type": "markdown",
   "metadata": {},
   "source": [
    "## Modularity for directed graphs (digraphs)\n",
    "\n",
    "directedModularity.py finds communities or modules in directed networks (digraphs) and evaluates their modularity index. The algorithm which optimizes a modularity function and makes continuous bisections until no further improvement of the modularity function is possible, is from the following paper:\n",
    "<i>Leicht, Elizabeth A., and Mark EJ Newman. \"Community structure in directed networks.\" Physical review letters 100.11 (2008): 118703.</i>\n",
    "\n",
    "I have also implemented the undirected version in (https://github.com/rentzi/netRewireAnalyze ). The paper for this is the following:\n",
    "<i>Newman, M. E. (2006). Modularity and community structure in networks. Proceedings of the national academy of sciences, 103(23), 8577-8582.</i>"
   ]
  },
  {
   "cell_type": "code",
   "execution_count": 1,
   "metadata": {},
   "outputs": [],
   "source": [
    "# Import dependencies\n",
    "import numpy as np\n",
    "import directedModularity # custom-made functions"
   ]
  },
  {
   "cell_type": "markdown",
   "metadata": {},
   "source": [
    "## I tested different binary digraphs with obvious clustering differences between them. The trend of results is correct"
   ]
  },
  {
   "cell_type": "code",
   "execution_count": 6,
   "metadata": {},
   "outputs": [
    {
     "name": "stdout",
     "output_type": "stream",
     "text": [
      "the modularity index for the graph is 0.426036\n",
      "\n",
      "Cluster 1 has the following nodes: \n",
      "[0 1 2]\n",
      "\n",
      "Cluster 2 has the following nodes: \n",
      "[3 4 5]\n",
      "\n"
     ]
    }
   ],
   "source": [
    "DiGraphStrong2Comp = np.array([[0,1,1,0,0,0],[1,0,1,0,0,0],[1,1,0,0,0,0],[1,0,0,0,1,1],[0,0,0,1,0,1],[0,0,0,1,1,0]])\n",
    "\n",
    "(Q, communitiesDict) = directedModularity.getModularityIndex(DiGraphStrong2Comp)\n",
    "\n",
    "print('the modularity index for the graph is %f'%Q)\n",
    "print('')\n",
    "\n",
    "for comm in communitiesDict.keys():\n",
    "    print('Cluster %d has the following nodes: '%comm)\n",
    "    print(communitiesDict[comm])\n",
    "    print('')"
   ]
  },
  {
   "cell_type": "code",
   "execution_count": 7,
   "metadata": {},
   "outputs": [
    {
     "name": "stdout",
     "output_type": "stream",
     "text": [
      "the modularity index for the graph with weaker clustering is 0.396694\n",
      "\n",
      "Cluster 1 has the following nodes: \n",
      "[0 1 2]\n",
      "\n",
      "Cluster 2 has the following nodes: \n",
      "[3 4 5]\n",
      "\n"
     ]
    }
   ],
   "source": [
    "DiGraphWeaker2Comp = np.array([[0,0,0,0,0,0],[1,0,1,0,0,0],[1,1,0,0,0,0],[1,0,0,0,1,1],[0,0,0,1,0,1],[0,0,0,1,1,0]])\n",
    "\n",
    "(Q, communitiesDict) = directedModularity.getModularityIndex(DiGraphWeaker2Comp)\n",
    "\n",
    "print('the modularity index for the graph with weaker clustering is %f'%Q)\n",
    "print('')\n",
    "\n",
    "for comm in communitiesDict.keys():\n",
    "    print('Cluster %d has the following nodes: '%comm)\n",
    "    print(communitiesDict[comm])\n",
    "    print('')"
   ]
  },
  {
   "cell_type": "code",
   "execution_count": 8,
   "metadata": {},
   "outputs": [
    {
     "name": "stdout",
     "output_type": "stream",
     "text": [
      "the modularity index for the graph with weaker and disconnected clusters is 0.345679\n",
      "\n",
      "Cluster 1 has the following nodes: \n",
      "[1 2]\n",
      "\n",
      "Cluster 2 has the following nodes: \n",
      "[0 3 4 5]\n",
      "\n"
     ]
    }
   ],
   "source": [
    "DiGraphWeaker2CompDiscon = np.array([[0,0,0,0,0,0],[0,0,1,0,0,0],[0,1,0,0,0,0],[1,0,0,0,1,1],[0,0,0,1,0,1],[0,0,0,1,1,0]])\n",
    "\n",
    "(Q, communitiesDict) = directedModularity.getModularityIndex(DiGraphWeaker2CompDiscon)\n",
    "\n",
    "print('the modularity index for the graph with weaker and disconnected clusters is %f'%Q)\n",
    "print('')\n",
    "\n",
    "for comm in communitiesDict.keys():\n",
    "    print('Cluster %d has the following nodes: '%comm)\n",
    "    print(communitiesDict[comm])\n",
    "    print('')"
   ]
  },
  {
   "cell_type": "code",
   "execution_count": 9,
   "metadata": {},
   "outputs": [
    {
     "name": "stdout",
     "output_type": "stream",
     "text": [
      "the modularity index for the graph with the weakest clustering is 0.204082\n",
      "\n",
      "Cluster 1 has the following nodes: \n",
      "[3 4 5]\n",
      "\n",
      "Cluster 2 has the following nodes: \n",
      "[0 1 2]\n",
      "\n"
     ]
    }
   ],
   "source": [
    "DiGraphWeakest = np.array([[0,0,1,0,0,0],[0,0,1,0,0,1],[1,1,0,0,1,0],[1,1,0,0,1,1],[0,0,0,1,0,1],[0,0,0,1,1,0]])\n",
    "\n",
    "(Q, communitiesDict) = directedModularity.getModularityIndex(DiGraphWeakest)\n",
    "\n",
    "print('the modularity index for the graph with the weakest clustering is %f'%Q)\n",
    "print('')\n",
    "\n",
    "for comm in communitiesDict.keys():\n",
    "    print('Cluster %d has the following nodes: '%comm)\n",
    "    print(communitiesDict[comm])\n",
    "    print('')"
   ]
  }
 ],
 "metadata": {
  "kernelspec": {
   "display_name": "Python 3",
   "language": "python",
   "name": "python3"
  },
  "language_info": {
   "codemirror_mode": {
    "name": "ipython",
    "version": 3
   },
   "file_extension": ".py",
   "mimetype": "text/x-python",
   "name": "python",
   "nbconvert_exporter": "python",
   "pygments_lexer": "ipython3",
   "version": "3.6.1"
  }
 },
 "nbformat": 4,
 "nbformat_minor": 2
}
